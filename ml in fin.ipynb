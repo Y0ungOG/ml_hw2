{
 "cells": [
  {
   "cell_type": "markdown",
   "id": "b58ae50b",
   "metadata": {},
   "source": [
    "Part 1"
   ]
  },
  {
   "cell_type": "code",
   "execution_count": 1,
   "id": "6d856f0a",
   "metadata": {},
   "outputs": [
    {
     "name": "stderr",
     "output_type": "stream",
     "text": [
      "D:\\anaconda\\lib\\site-packages\\numpy\\_distributor_init.py:30: UserWarning: loaded more than 1 DLL from .libs:\n",
      "D:\\anaconda\\lib\\site-packages\\numpy\\.libs\\libopenblas.EL2C6PLE4ZYW3ECEVIV3OXXGRN2NRFM2.gfortran-win_amd64.dll\n",
      "D:\\anaconda\\lib\\site-packages\\numpy\\.libs\\libopenblas.PYQHXLVVQ7VESDPUVUADXEVJOBGHJPAY.gfortran-win_amd64.dll\n",
      "  warnings.warn(\"loaded more than 1 DLL from .libs:\"\n"
     ]
    }
   ],
   "source": [
    "import jax\n",
    "import jax.numpy as np\n",
    "from jax import random\n",
    "\n",
    "# Data\n",
    "σ = 0.04\n",
    "r = 0.01\n",
    "K = 35\n",
    "\n",
    "# Design choice\n",
    "dt = 0.01\n",
    "m = 100\n",
    "\n",
    "\n",
    "def step(S, key):\n",
    "    dZ = random.normal(key, shape=S.shape) * np.sqrt(dt)\n",
    "    dS = r * S * dt + σ * S * dZ\n",
    "    S = S + dS\n",
    "    return S\n",
    "\n",
    "def simulate():\n",
    "    key = random.PRNGKey(0)\n",
    "    S0 = np.ones(20000)\n",
    "    S_list = []\n",
    "\n",
    "    for t in range(m):\n",
    "        key, subkey = random.split(key)\n",
    "        S = step(S0, subkey)\n",
    "        S_list.append(S)\n",
    "        S0 = S\n",
    "\n",
    "    S_array = np.stack(S_list)\n",
    "    return S_array"
   ]
  },
  {
   "cell_type": "code",
   "execution_count": 2,
   "id": "570961e5",
   "metadata": {
    "scrolled": true
   },
   "outputs": [
    {
     "data": {
      "text/plain": [
       "DeviceArray([[0.9990368 , 0.99845755, 1.0009075 , ..., 0.9949413 ,\n",
       "              0.9968931 , 0.99635816],\n",
       "             [0.99916214, 0.99233675, 0.9988377 , ..., 0.9934248 ,\n",
       "              0.9962843 , 1.0000815 ],\n",
       "             [1.0038999 , 0.99782735, 0.9933294 , ..., 0.9843731 ,\n",
       "              0.99664205, 0.99447113],\n",
       "             ...,\n",
       "             [0.98081917, 1.0411566 , 0.98559856, ..., 1.0382012 ,\n",
       "              1.0340495 , 0.9722904 ],\n",
       "             [0.9760958 , 1.0460585 , 0.9811195 , ..., 1.0345007 ,\n",
       "              1.0348959 , 0.977704  ],\n",
       "             [0.97404456, 1.0439519 , 0.9716244 , ..., 1.0376757 ,\n",
       "              1.034841  , 0.974258  ]], dtype=float32)"
      ]
     },
     "execution_count": 2,
     "metadata": {},
     "output_type": "execute_result"
    }
   ],
   "source": [
    "simulate()"
   ]
  },
  {
   "cell_type": "markdown",
   "id": "86510731",
   "metadata": {},
   "source": [
    "Part 2"
   ]
  },
  {
   "cell_type": "code",
   "execution_count": 4,
   "id": "e41f42f6",
   "metadata": {},
   "outputs": [],
   "source": [
    "import jax\n",
    "import jax.numpy as np\n",
    "from jax import random,jit\n",
    "\n",
    "# Data\n",
    "σ = 0.04\n",
    "r = 0.01\n",
    "K = 35\n",
    "\n",
    "# Design choice\n",
    "dt = 0.01\n",
    "m = 100\n",
    "\n",
    "\n",
    "def step(S, key):\n",
    "    dZ = random.normal(key, shape=S.shape) * np.sqrt(dt)\n",
    "    dS = r * S * dt + σ * S * dZ\n",
    "    S = S + dS\n",
    "    return S\n",
    "\n",
    "def simulate():\n",
    "    key = random.PRNGKey(0)\n",
    "    S0 = np.ones(20000)\n",
    "    S_list = []\n",
    "\n",
    "    for t in range(m):\n",
    "        key, subkey = random.split(key)\n",
    "        S = step(S0, subkey)\n",
    "        S_list.append(S)\n",
    "        S0 = S\n",
    "\n",
    "    S_array = np.stack(S_list)\n",
    "    return S_array\n",
    "\n",
    "simulate_jit = jit(simulate)"
   ]
  },
  {
   "cell_type": "code",
   "execution_count": 5,
   "id": "dc17dcc4",
   "metadata": {},
   "outputs": [
    {
     "data": {
      "text/plain": [
       "DeviceArray([[0.9990368 , 0.99845755, 1.0009075 , ..., 0.9949413 ,\n",
       "              0.9968931 , 0.99635816],\n",
       "             [0.99916214, 0.99233675, 0.9988377 , ..., 0.9934248 ,\n",
       "              0.9962843 , 1.0000815 ],\n",
       "             [1.0038999 , 0.99782735, 0.9933294 , ..., 0.9843731 ,\n",
       "              0.99664205, 0.99447113],\n",
       "             ...,\n",
       "             [0.98081917, 1.0411566 , 0.98559856, ..., 1.0382012 ,\n",
       "              1.0340495 , 0.9722904 ],\n",
       "             [0.9760958 , 1.0460585 , 0.9811195 , ..., 1.0345007 ,\n",
       "              1.0348959 , 0.977704  ],\n",
       "             [0.97404456, 1.0439519 , 0.9716244 , ..., 1.0376757 ,\n",
       "              1.034841  , 0.974258  ]], dtype=float32)"
      ]
     },
     "execution_count": 5,
     "metadata": {},
     "output_type": "execute_result"
    }
   ],
   "source": [
    "simulate_jit()"
   ]
  },
  {
   "cell_type": "markdown",
   "id": "6343f862",
   "metadata": {},
   "source": [
    "Part 3"
   ]
  },
  {
   "cell_type": "code",
   "execution_count": 7,
   "id": "38b1d0b8",
   "metadata": {},
   "outputs": [
    {
     "name": "stdout",
     "output_type": "stream",
     "text": [
      "4.475946\n"
     ]
    }
   ],
   "source": [
    "import jax\n",
    "import jax.numpy as jnp\n",
    "from jax import random\n",
    "\n",
    "Spot = 36 # stock price\n",
    "σ = 0.2 # stock volatility\n",
    "K = 40 # strike price\n",
    "r = 0.06 # risk free rate\n",
    "n = 100000 # Number of simulated paths\n",
    "m = 50 # number of exercise dates\n",
    "T = 1 # maturity\n",
    "order = 12 # Polynomial order\n",
    "Δt = T / m # interval between two exercise dates\n",
    "\n",
    "# Construct polynomial features of order up to k using the recursive formulation\n",
    "def chebyshev_basis(x, k):\n",
    "    B = [jnp.ones_like(x), x]\n",
    "    for n in range(2, k):\n",
    "        Bn = 2 * x * B[n - 1] - B[n - 2]\n",
    "        B.append(Bn)\n",
    "    return jnp.column_stack(B)\n",
    "\n",
    "# Scales x to be in the interval(-1, 1)\n",
    "def scale(x):\n",
    "    xmin = x.min()\n",
    "    xmax = x.max()\n",
    "    a = 2 / (xmax - xmin)\n",
    "    b = 1 - a * xmax\n",
    "    return a * x + b\n",
    "\n",
    "# Simulates one step of the stock price evolution\n",
    "def step(S, Δt, key):\n",
    "    dB = jnp.sqrt(Δt) * random.normal(key, shape=S.shape)\n",
    "    S_tp1 = S + r * S * Δt + σ * S * dB\n",
    "    return S_tp1\n",
    "\n",
    "def payoff_put(S, K):\n",
    "    return jnp.maximum(K - S, 0.)\n",
    "\n",
    "# LSMC algorithm\n",
    "@jax.jit\n",
    "def compute_price():\n",
    "    key = random.PRNGKey(0)\n",
    "    S0 = Spot * jnp.ones(n)\n",
    "    S = [S0]\n",
    "\n",
    "    for t in range(m):\n",
    "        key, subkey = random.split(key)\n",
    "        S_tp1 = step(S[t], Δt, subkey)\n",
    "        S.append(S_tp1)\n",
    "\n",
    "    discount = jnp.exp(-r * Δt)\n",
    "\n",
    "    # Very last date\n",
    "    value_if_exercise = payoff_put(S[-1], K)\n",
    "    discounted_future_cashflows = value_if_exercise * discount\n",
    "\n",
    "    # Proceed recursively\n",
    "    for i in range(m - 1):\n",
    "        X = chebyshev_basis(scale(S[-2 - i]), order)\n",
    "        Y = discounted_future_cashflows\n",
    "\n",
    "        Θ = jnp.linalg.solve(X.T @ X, X.T @ Y)\n",
    "        value_if_wait = X @ Θ\n",
    "        value_if_exercise = payoff_put(S[-2 - i], K)\n",
    "\n",
    "        exercise = value_if_exercise >= value_if_wait\n",
    "        discounted_future_cashflows = discount * jnp.where(\n",
    "            exercise,\n",
    "            value_if_exercise,\n",
    "            discounted_future_cashflows\n",
    "        )\n",
    "\n",
    "    return discounted_future_cashflows.mean()\n",
    "\n",
    "print(compute_price())\n"
   ]
  },
  {
   "cell_type": "code",
   "execution_count": null,
   "id": "ea4b01de",
   "metadata": {},
   "outputs": [],
   "source": []
  },
  {
   "cell_type": "code",
   "execution_count": null,
   "id": "32cfcd25",
   "metadata": {},
   "outputs": [],
   "source": []
  }
 ],
 "metadata": {
  "kernelspec": {
   "display_name": "Python 3 (ipykernel)",
   "language": "python",
   "name": "python3"
  },
  "language_info": {
   "codemirror_mode": {
    "name": "ipython",
    "version": 3
   },
   "file_extension": ".py",
   "mimetype": "text/x-python",
   "name": "python",
   "nbconvert_exporter": "python",
   "pygments_lexer": "ipython3",
   "version": "3.8.8"
  }
 },
 "nbformat": 4,
 "nbformat_minor": 5
}
